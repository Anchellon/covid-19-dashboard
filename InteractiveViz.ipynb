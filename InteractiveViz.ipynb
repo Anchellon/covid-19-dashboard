{
 "cells": [
  {
   "cell_type": "code",
   "execution_count": 19,
   "id": "9d2a83c0",
   "metadata": {},
   "outputs": [],
   "source": [
    "from IPython.display import clear_output\n",
    "import ipywidgets as wdg\n",
    "import pandas as pd\n",
    "import matplotlib.pyplot as plotter"
   ]
  },
  {
   "cell_type": "code",
   "execution_count": 20,
   "id": "7b24fdad",
   "metadata": {},
   "outputs": [],
   "source": [
    "%matplotlib inline\n",
    "plotter.rcParams['figure.dpi'] = 1000"
   ]
  },
  {
   "cell_type": "code",
   "execution_count": 21,
   "id": "f0272a88",
   "metadata": {},
   "outputs": [],
   "source": [
    "loc_df=pd.read_pickle(\"newCasesByNation.pkl\")"
   ]
  },
  {
   "cell_type": "code",
   "execution_count": 22,
   "id": "91719657",
   "metadata": {},
   "outputs": [
    {
     "data": {
      "application/vnd.jupyter.widget-view+json": {
       "model_id": "42e428f67b8241c281b68acab54556c2",
       "version_major": 2,
       "version_minor": 0
      },
      "text/plain": [
       "SelectMultiple(description='Location', index=(0,), options=('England_New_cases', 'Northern_Ireland_New_cases',…"
      ]
     },
     "metadata": {},
     "output_type": "display_data"
    },
    {
     "data": {
      "application/vnd.jupyter.widget-view+json": {
       "model_id": "2361ec0559e3406ca0845d4c39cace10",
       "version_major": 2,
       "version_minor": 0
      },
      "text/plain": [
       "Output()"
      ]
     },
     "metadata": {},
     "output_type": "display_data"
    }
   ],
   "source": [
    "locCols=wdg.SelectMultiple(\n",
    "    options=['England_New_cases', 'Northern_Ireland_New_cases', 'Scotland_New_cases', 'Wales_New_cases'], # options available\n",
    "    value=['England_New_cases'],\n",
    "    rows=4, \n",
    "    description='Location',\n",
    "    disabled=False\n",
    ")\n",
    "\n",
    "def loc_graph(graphcolumns):\n",
    "    num_cols=len(graphcolumns)\n",
    "    if num_cols>0:\n",
    "        loc_df.plot(y=list(graphcolumns))\n",
    "        plotter.show() \n",
    "    else:\n",
    "        print(\"Click to select data for graph\")\n",
    "        print(\"(CTRL-Click to select more than one location)\")\n",
    "op=wdg.interactive_output(loc_graph, {'graphcolumns': locCols})\n",
    "\n",
    "display(locCols, op)"
   ]
  },
  {
   "cell_type": "code",
   "execution_count": 24,
   "id": "bfce16a2",
   "metadata": {},
   "outputs": [
    {
     "data": {
      "application/vnd.jupyter.widget-view+json": {
       "model_id": "1b5bcfe2f44e44ca8204a4361b7d663b",
       "version_major": 2,
       "version_minor": 0
      },
      "text/plain": [
       "HBox(children=(SelectMultiple(description='Location', index=(0,), options=('England_New_cases', 'Northern_Irel…"
      ]
     },
     "metadata": {},
     "output_type": "display_data"
    },
    {
     "data": {
      "application/vnd.jupyter.widget-view+json": {
       "model_id": "b8e2f52a876f4579b2a8f53eec62f67f",
       "version_major": 2,
       "version_minor": 0
      },
      "text/plain": [
       "Output()"
      ]
     },
     "metadata": {},
     "output_type": "display_data"
    }
   ],
   "source": [
    "locCols=wdg.SelectMultiple(\n",
    "    options=['England_New_cases', 'Northern_Ireland_New_cases', 'Scotland_New_cases', 'Wales_New_cases'], # options available\n",
    "    value=['England_New_cases'], \n",
    "    rows=4,\n",
    "    description='Location',\n",
    "    disabled=False\n",
    ")\n",
    "\n",
    "scale=wdg.RadioButtons(\n",
    "    options=['linear', 'log'],\n",
    "    description='Scale:',\n",
    "    disabled=False\n",
    ")\n",
    "\n",
    "controls=wdg.HBox([locCols, scale])\n",
    "\n",
    "def loc_timeseries_graph(gcols, gscale):\n",
    "    if gscale=='linear':\n",
    "        logscale=False\n",
    "    else:\n",
    "        logscale=True\n",
    "    num_cols=len(gcols)\n",
    "    if num_cols>0:\n",
    "        loc_df[list(gcols)].plot(logy=logscale)\n",
    "        plt.show()\n",
    "    else:\n",
    "        print(\"Click to select data for graph\")\n",
    "        print(\"(CTRL-Click to select more than one Nation)\")\n",
    "\n",
    "graph=wdg.interactive_output(loc_timeseries_graph, {'gcols': locCols, 'gscale': scale})\n",
    "\n",
    "display(controls, graph)"
   ]
  },
  {
   "cell_type": "code",
   "execution_count": null,
   "id": "12db6b05",
   "metadata": {},
   "outputs": [],
   "source": []
  }
 ],
 "metadata": {
  "kernelspec": {
   "display_name": "Python 3 (ipykernel)",
   "language": "python",
   "name": "python3"
  },
  "language_info": {
   "codemirror_mode": {
    "name": "ipython",
    "version": 3
   },
   "file_extension": ".py",
   "mimetype": "text/x-python",
   "name": "python",
   "nbconvert_exporter": "python",
   "pygments_lexer": "ipython3",
   "version": "3.9.13"
  }
 },
 "nbformat": 4,
 "nbformat_minor": 5
}
