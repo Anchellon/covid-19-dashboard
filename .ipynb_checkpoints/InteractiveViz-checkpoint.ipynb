{
 "cells": [
  {
   "cell_type": "code",
   "execution_count": 19,
   "id": "9d2a83c0",
   "metadata": {},
   "outputs": [],
   "source": [
    "from IPython.display import clear_output\n",
    "import ipywidgets as wdg\n",
    "import pandas as pd\n",
    "import matplotlib.pyplot as plotter"
   ]
  },
  {
   "cell_type": "code",
   "execution_count": 20,
   "id": "efc59a85",
   "metadata": {},
   "outputs": [],
   "source": [
    "%matplotlib inline\n",
    "plotter.rcParams['figure.dpi'] = 1000"
   ]
  },
  {
   "cell_type": "code",
   "execution_count": 21,
   "id": "a08de829",
   "metadata": {},
   "outputs": [],
   "source": [
    "loc_df=pd.read_pickle(\"newCasesByNation.pkl\")"
   ]
  },
  {
   "cell_type": "code",
   "execution_count": 22,
   "id": "85cf241f",
   "metadata": {},
   "outputs": [
    {
     "data": {
      "application/vnd.jupyter.widget-view+json": {
       "model_id": "42e428f67b8241c281b68acab54556c2",
       "version_major": 2,
       "version_minor": 0
      },
      "text/plain": [
       "SelectMultiple(description='Location', index=(0,), options=('England_New_cases', 'Northern_Ireland_New_cases',…"
      ]
     },
     "metadata": {},
     "output_type": "display_data"
    },
    {
     "data": {
      "application/vnd.jupyter.widget-view+json": {
       "model_id": "2361ec0559e3406ca0845d4c39cace10",
       "version_major": 2,
       "version_minor": 0
      },
      "text/plain": [
       "Output()"
      ]
     },
     "metadata": {},
     "output_type": "display_data"
    }
   ],
   "source": [
    "locCols=wdg.SelectMultiple(\n",
    "    options=['England_New_cases', 'Northern_Ireland_New_cases', 'Scotland_New_cases', 'Wales_New_cases'], # options available\n",
    "    value=['England_New_cases'],\n",
    "    rows=4, \n",
    "    description='Location',\n",
    "    disabled=False\n",
    ")\n",
    "\n",
    "def loc_graph(graphcolumns):\n",
    "    num_cols=len(graphcolumns)\n",
    "    if num_cols>0:\n",
    "        loc_df.plot(y=list(graphcolumns))\n",
    "        plotter.show() \n",
    "    else:\n",
    "        print(\"Click to select data for graph\")\n",
    "        print(\"(CTRL-Click to select more than one location)\")\n",
    "op=wdg.interactive_output(loc_graph, {'graphcolumns': locCols})\n",
    "\n",
    "display(locCols, op)"
   ]
  },
  {
   "cell_type": "code",
   "execution_count": 12,
   "id": "8d25f95c",
   "metadata": {},
   "outputs": [
    {
     "data": {
      "application/vnd.jupyter.widget-view+json": {
       "model_id": "7b30795ac02b420cb4a1ca295494869b",
       "version_major": 2,
       "version_minor": 0
      },
      "text/plain": [
       "HBox(children=(SelectMultiple(description='Location', index=(0,), options=('England_New_cases', 'Northern_Irel…"
      ]
     },
     "metadata": {},
     "output_type": "display_data"
    },
    {
     "data": {
      "application/vnd.jupyter.widget-view+json": {
       "model_id": "f4ce1a74f4e14d93b069a36aa694c1eb",
       "version_major": 2,
       "version_minor": 0
      },
      "text/plain": [
       "Output()"
      ]
     },
     "metadata": {},
     "output_type": "display_data"
    }
   ],
   "source": [
    "locCols=wdg.SelectMultiple(\n",
    "    options=['England_New_cases', 'Northern_Ireland_New_cases', 'Scotland_New_cases', 'Wales_New_cases'], # options available\n",
    "    value=['England_New_cases'], # initial value\n",
    "    rows=4, # rows of the selection box\n",
    "    description='Location',\n",
    "    disabled=False\n",
    ")\n",
    "\n",
    "scale=wdg.RadioButtons(\n",
    "    options=['linear', 'log'],\n",
    "#    value='pineapple', # Defaults to 'pineapple'\n",
    "#    layout={'width': 'max-content'}, # If the items' names are long\n",
    "    description='Scale:',\n",
    "    disabled=False\n",
    ")\n",
    "\n",
    "# try replacing HBox with a VBox\n",
    "controls=wdg.HBox([locCols, scale])\n",
    "\n",
    "def loc_timeseries_graph(gcols, gscale):\n",
    "    if gscale=='linear':\n",
    "        logscale=False\n",
    "    else:\n",
    "        logscale=True\n",
    "    ncols=len(gcols)\n",
    "    if ncols>0:\n",
    "        loc_df[list(gcols)].plot(logy=logscale)\n",
    "        plt.show() # important - graphs won't update if this is missing \n",
    "    else:\n",
    "        print(\"Click to select data for graph\")\n",
    "        print(\"(CTRL-Click to select more than one Nation)\")\n",
    "\n",
    "# keep calling timeseries_graph(gcols=value_of_series, gscale=value_of_scale); \n",
    "# capture output in widget graph   \n",
    "graph=wdg.interactive_output(loc_timeseries_graph, {'gcols': locCols, 'gscale': scale})\n",
    "\n",
    "display(controls, graph)"
   ]
  },
  {
   "cell_type": "code",
   "execution_count": null,
   "id": "bbe98c38",
   "metadata": {},
   "outputs": [],
   "source": []
  }
 ],
 "metadata": {
  "kernelspec": {
   "display_name": "Python 3 (ipykernel)",
   "language": "python",
   "name": "python3"
  },
  "language_info": {
   "codemirror_mode": {
    "name": "ipython",
    "version": 3
   },
   "file_extension": ".py",
   "mimetype": "text/x-python",
   "name": "python",
   "nbconvert_exporter": "python",
   "pygments_lexer": "ipython3",
   "version": "3.9.13"
  }
 },
 "nbformat": 4,
 "nbformat_minor": 5
}
